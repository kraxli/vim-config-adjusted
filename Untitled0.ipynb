{
 "metadata": {
  "name": "",
  "signature": "sha256:4876443772faea2c41a77953b41a5b323525a9a71aa955ca613c68341ec8c048"
 },
 "nbformat": 3,
 "nbformat_minor": 0,
 "worksheets": [
  {
   "cells": [
    {
     "cell_type": "code",
     "collapsed": false,
     "input": [
      "from functools import reduce\n",
      "\n",
      "def factorial1(n):\n",
      "    if n < 1:\n",
      "        return 1\n",
      "    return reduce(lambda x,y: x*y, range(1, n+1))\n",
      "\n",
      "factorial1(1)"
     ],
     "language": "python",
     "metadata": {},
     "outputs": [
      {
       "metadata": {},
       "output_type": "pyout",
       "prompt_number": 13,
       "text": [
        "1"
       ]
      }
     ],
     "prompt_number": 13
    },
    {
     "cell_type": "code",
     "collapsed": false,
     "input": [
      "def factorial2(n):\n",
      "    if n<2:\n",
      "        return 1\n",
      "    \n",
      "    return factorial2(n-1)*n\n",
      "\n",
      "factorial2(3)"
     ],
     "language": "python",
     "metadata": {},
     "outputs": [
      {
       "metadata": {},
       "output_type": "pyout",
       "prompt_number": 15,
       "text": [
        "6"
       ]
      }
     ],
     "prompt_number": 15
    },
    {
     "cell_type": "code",
     "collapsed": false,
     "input": [
      "def fib(n):\n",
      "    a,b = 0,1\n",
      "    for i in range(n-1):\n",
      "        a,b = b,a+b\n",
      "    return a\n",
      "\n",
      "print(fib(3))\n",
      "print(fib(5))\n",
      "print(fib(6))\n",
      "print(fib(7))"
     ],
     "language": "python",
     "metadata": {},
     "outputs": [
      {
       "output_type": "stream",
       "stream": "stdout",
       "text": [
        "1\n",
        "3\n",
        "5\n",
        "8\n"
       ]
      }
     ],
     "prompt_number": 28
    },
    {
     "cell_type": "code",
     "collapsed": false,
     "input": [
      "## Example 5: Using memoization as decorator\n",
      "class Memoize:\n",
      " def __init__(self, fn):\n",
      "  self.fn = fn\n",
      "  self.memo = {}\n",
      " def __call__(self, arg):\n",
      "  if arg not in self.memo:\n",
      "   self.memo[arg] = self.fn(arg)\n",
      "   return self.memo[arg]\n",
      " \n",
      "@Memoize\n",
      "def fib(n):\n",
      " a,b = 0,1\n",
      " for i in range(n-1):\n",
      "  a,b = b,a+b\n",
      " return a\n",
      "print fib(1000)"
     ],
     "language": "python",
     "metadata": {},
     "outputs": [
      {
       "output_type": "stream",
       "stream": "stdout",
       "text": [
        "26863810024485359386146727202142923967616609318986952340123175997617981700247881689338369654483356564191827856161443356312976673642210350324634850410377680367334151172899169723197082763985615764450078474174626\n"
       ]
      }
     ],
     "prompt_number": 29
    }
   ],
   "metadata": {}
  }
 ]
}