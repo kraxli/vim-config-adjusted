{
 "metadata": {
  "name": "",
  "signature": "sha256:26835b4ab0d3ef515e791aa406dc0db8077f406ebd245fe7e4103adf44088beb"
 },
 "nbformat": 3,
 "nbformat_minor": 0,
 "worksheets": [
  {
   "cells": [
    {
     "cell_type": "code",
     "collapsed": false,
     "input": [
      "from functools import reduce\n",
      "\n",
      "def factorial1(n):\n",
      "    if n < 1:\n",
      "        return 1\n",
      "    return reduce(lambda x,y: x*y, range(1, n+1))\n",
      "\n",
      "factorial1(1)"
     ],
     "language": "python",
     "metadata": {},
     "outputs": [
      {
       "metadata": {},
       "output_type": "pyout",
       "prompt_number": 13,
       "text": [
        "1"
       ]
      }
     ],
     "prompt_number": 13
    },
    {
     "cell_type": "code",
     "collapsed": false,
     "input": [
      "def factorial2(n):\n",
      "    if n<2:\n",
      "        return 1\n",
      "    \n",
      "    return factorial2(n-1)*n\n",
      "\n",
      "factorial2(3)"
     ],
     "language": "python",
     "metadata": {},
     "outputs": [
      {
       "metadata": {},
       "output_type": "pyout",
       "prompt_number": 15,
       "text": [
        "6"
       ]
      }
     ],
     "prompt_number": 15
    },
    {
     "cell_type": "code",
     "collapsed": false,
     "input": [
      "def fib(n):\n",
      "    a,b = 0,1\n",
      "    for i in range(n-1):\n",
      "        a,b = b,a+b\n",
      "    return a\n",
      "\n",
      "print(fib(3))\n",
      "print(fib(5))\n",
      "print(fib(6))\n",
      "print(fib(7))"
     ],
     "language": "python",
     "metadata": {},
     "outputs": [
      {
       "output_type": "stream",
       "stream": "stdout",
       "text": [
        "1\n",
        "3\n",
        "5\n",
        "8\n"
       ]
      }
     ],
     "prompt_number": 20
    }
   ],
   "metadata": {}
  }
 ]
}